{
 "cells": [
  {
   "cell_type": "markdown",
   "metadata": {},
   "source": [
    "# Scaffold a new Expectation Suite (Experimental)\n",
    "This process helps you avoid writing lots of boilerplate when authoring suites by allowing you to select columns you care about and letting a profiler write some candidate expectations for you to adjust.\n",
    "\n",
    "**Expectation Suite Name**: `taxi1.demo`\n",
    "\n",
    "We'd love it if you'd **reach out to us on** the [**Great Expectations Slack Channel**](https://greatexpectations.io/slack)!"
   ]
  },
  {
   "cell_type": "code",
   "execution_count": null,
   "metadata": {},
   "outputs": [],
   "source": [
    "import datetime\n",
    "import great_expectations as ge\n",
    "import great_expectations.jupyter_ux\n",
    "from great_expectations.profile import BasicSuiteBuilderProfiler\n",
    "from great_expectations.data_context.types.resource_identifiers import (\n",
    "    ValidationResultIdentifier,\n",
    ")\n",
    "\n",
    "context = ge.data_context.DataContext()\n",
    "\n",
    "expectation_suite_name = \"taxi1.demo\"\n",
    "suite = context.create_expectation_suite(\n",
    "    expectation_suite_name, overwrite_existing=True\n",
    ")\n",
    "\n",
    "batch_kwargs = {\n",
    "    \"path\": \"D:\\\\GE_Handson\\\\great_expectations\\\\data_taxi\\\\yellow_tripdata_2020-01 (1).csv\",\n",
    "    \"datasource\": \"taxi.data\",\n",
    "    \"reader_method\": \"read_csv\",\n",
    "    \"data_asset_name\": \"yellow_tripdata_2020-01 (1)\",\n",
    "}\n",
    "batch = context.get_batch(batch_kwargs, suite)\n",
    "batch.head()"
   ]
  },
  {
   "cell_type": "markdown",
   "metadata": {},
   "source": [
    "## Select the columns on which you would like to scaffold expectations\n",
    "\n",
    "Great Expectations will choose which expectations might make sense for a column based on the **data type** and **cardinality** of the data in each selected column.\n",
    "\n",
    "Simply uncomment columns that are important. You can select multiple lines and\n",
    "use a jupyter keyboard shortcut to toggle each line: **Linux/Windows**:\n",
    "`Ctrl-/`, **macOS**: `Cmd-/`"
   ]
  },
  {
   "cell_type": "code",
   "execution_count": null,
   "metadata": {},
   "outputs": [],
   "source": [
    "included_columns = [\n",
    "    # 'VendorID',\n",
    "    # 'tpep_pickup_datetime',\n",
    "    # 'tpep_dropoff_datetime',\n",
    "    # 'passenger_count',\n",
    "    # 'trip_distance',\n",
    "    # 'RatecodeID',\n",
    "    # 'store_and_fwd_flag',\n",
    "    # 'PULocationID',\n",
    "    # 'DOLocationID',\n",
    "    # 'payment_type',\n",
    "    # 'fare_amount',\n",
    "    # 'extra',\n",
    "    # 'mta_tax',\n",
    "    # 'tip_amount',\n",
    "    # 'tolls_amount',\n",
    "    # 'improvement_surcharge',\n",
    "    # 'total_amount',\n",
    "    # 'congestion_surcharge'\n",
    "]"
   ]
  },
  {
   "cell_type": "markdown",
   "metadata": {},
   "source": [
    "## Run the scaffolder\n",
    "\n",
    "The suites generated here are **not meant to be production suites** - they are **scaffolds to build upon**.\n",
    "\n",
    "**To get to a production grade suite, you will definitely want to [edit this\n",
    "suite](https://docs.greatexpectations.io/en/latest/how_to_guides/creating_and_editing_expectations/how_to_edit_an_expectation_suite_using_a_disposable_notebook.html)\n",
    "after scaffolding gets you close to what you want.**\n",
    "\n",
    "This is highly configurable depending on your goals. You can include or exclude\n",
    "columns, and include or exclude expectation types (when applicable). [The\n",
    "Expectation Glossary](https://docs.greatexpectations.io/en/latest/reference/glossary_of_expectations.html?utm_source=notebook&utm_medium=scaffold_expectations)\n",
    "contains a list of possible expectations."
   ]
  },
  {
   "cell_type": "code",
   "execution_count": null,
   "metadata": {},
   "outputs": [],
   "source": [
    "# Wipe the suite clean to prevent unwanted expectations in the batch\n",
    "suite = context.create_expectation_suite(expectation_suite_name, overwrite_existing=True)\n",
    "batch = context.get_batch(batch_kwargs, suite)\n",
    "\n",
    "# In the scaffold_config, included or excluded expectation names should be strings.\n",
    "scaffold_config = {\n",
    "    \"included_columns\": included_columns,\n",
    "    # \"excluded_columns\": [],\n",
    "    # \"included_expectations\": [],\n",
    "    # \"excluded_expectations\": [],\n",
    "}\n",
    "suite, evr = BasicSuiteBuilderProfiler().profile(batch, profiler_configuration=scaffold_config)"
   ]
  },
  {
   "cell_type": "markdown",
   "metadata": {},
   "source": [
    "## Save & review the scaffolded Expectation Suite\n",
    "\n",
    "Let's save the scaffolded expectation suite as a JSON file in the\n",
    "`great_expectations/expectations` directory of your project and rebuild the Data\n",
    " Docs site to make it easy to review the scaffolded suite."
   ]
  },
  {
   "cell_type": "code",
   "execution_count": null,
   "metadata": {},
   "outputs": [],
   "source": [
    "context.save_expectation_suite(suite, expectation_suite_name)\n",
    "\n",
    "results = context.run_validation_operator(\"action_list_operator\", assets_to_validate=[batch])\n",
    "validation_result_identifier = results.list_validation_result_identifiers()[0]\n",
    "context.build_data_docs()\n",
    "context.open_data_docs(validation_result_identifier)"
   ]
  },
  {
   "cell_type": "markdown",
   "metadata": {},
   "source": [
    "## Next steps\n",
    "After you review this scaffolded Expectation Suite in Data Docs you\n",
    "should edit this suite to make finer grained adjustments to the expectations.\n",
    "This can be done by running `great_expectations suite edit taxi1.demo`."
   ]
  }
 ],
 "metadata": {
  "kernelspec": {
   "display_name": "Python 3",
   "language": "python",
   "name": "python3"
  },
  "language_info": {
   "codemirror_mode": {
    "name": "ipython",
    "version": 3
   },
   "file_extension": ".py",
   "mimetype": "text/x-python",
   "name": "python",
   "nbconvert_exporter": "python",
   "pygments_lexer": "ipython3",
   "version": "3.7.8"
  }
 },
 "nbformat": 4,
 "nbformat_minor": 4
}
